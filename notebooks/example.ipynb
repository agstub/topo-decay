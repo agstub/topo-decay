{
 "cells": [
  {
   "cell_type": "markdown",
   "id": "80eb6396",
   "metadata": {},
   "source": [
    "This code produces Figure 9 in the manuscript: compariosn of nonlinear solutions with the steady Green's function solution. \n",
    "\n",
    "The code requires FEniCSx---see the README for details."
   ]
  },
  {
   "cell_type": "code",
   "execution_count": null,
   "id": "57aa6f76-b645-4397-b420-d5789dfd518c",
   "metadata": {},
   "outputs": [],
   "source": [
    "%load_ext autoreload\n",
    "%autoreload 2\n",
    "import sys\n",
    "sys.path.insert(0, './source')"
   ]
  },
  {
   "cell_type": "code",
   "execution_count": null,
   "id": "8d55280f-c1b0-4341-8d1d-b33073904fc1",
   "metadata": {},
   "outputs": [],
   "source": [
    "from main import solve\n",
    "from params import H, Nx, Nz, rho_w, rho_i, t_e\n",
    "from smb import smb_h, smb_s\n",
    "import numpy as np\n",
    "import matplotlib.pyplot as plt\n",
    "from scipy.signal import convolve\n",
    "import numpy as np\n",
    "from params import t_r,t_f,nt,L\n",
    "from scipy.interpolate import griddata,interp1d\n",
    "from scipy.optimize import curve_fit"
   ]
  },
  {
   "cell_type": "code",
   "execution_count": null,
   "id": "47606628-e093-4289-89fe-21def19ef0ae",
   "metadata": {},
   "outputs": [],
   "source": [
    "m0 = 5 / 3.154e7                # max basal melt(+) or freeze(-) rate (m/yr)\n",
    "stdev = 10*H/3                  # standard deviation for Gaussian basal melt anomaly"
   ]
  },
  {
   "cell_type": "markdown",
   "id": "e28e001f-c219-42d5-83fb-a628d983edda",
   "metadata": {},
   "source": [
    "Solve problem with small melt rate:"
   ]
  },
  {
   "cell_type": "code",
   "execution_count": null,
   "id": "edcbe41f-b9ef-4940-8421-e70bdae0b9d3",
   "metadata": {},
   "outputs": [],
   "source": [
    "a = lambda x,t: smb_h(x,t,0.2*m0,stdev)\n",
    "m = lambda x,t: smb_s(x,t,0.2*m0,stdev)\n",
    "\n",
    "h,s,u,w,x,x_vel,z_vel = solve(a,m)"
   ]
  },
  {
   "cell_type": "code",
   "execution_count": null,
   "id": "27dde638-7fba-431b-9319-db917b916a9f",
   "metadata": {},
   "outputs": [],
   "source": [
    "t = np.linspace(0,t_f, nt)"
   ]
  },
  {
   "cell_type": "code",
   "execution_count": null,
   "id": "735f69ee-57ee-448a-aa3f-adf633ecbc0b",
   "metadata": {},
   "outputs": [],
   "source": [
    "H_max = np.max(np.abs(h-s - H),axis=0)"
   ]
  },
  {
   "cell_type": "code",
   "execution_count": null,
   "id": "7209d78e-9d62-434f-9ad0-19bc8a288174",
   "metadata": {},
   "outputs": [],
   "source": [
    "H_decay = H_max[t>8*t_e]\n",
    "t_decay = t[t>8*t_e]\n",
    "t_0 = t_decay[0]\n",
    "t_decay -= t_0\n",
    "\n",
    "funct = lambda x, a, b, c: a * np.exp(-b * x) + c\n",
    "\n",
    "y_data = H_decay/H\n",
    "x_data = t_decay/t_e\n",
    "\n",
    "popt, pcov = curve_fit(func, x_data, y_data)\n",
    "\n",
    "a,b,c = popt"
   ]
  },
  {
   "cell_type": "code",
   "execution_count": null,
   "id": "d7518d06-9908-4a2f-9b7b-173a7961c458",
   "metadata": {},
   "outputs": [],
   "source": [
    "plt.figure(figsize=(8,6))\n",
    "plt.title(r'$t_\\mathrm{decay}=$'+'{:.2f}'.format(1/b)+r' $t_\\mathrm{e}$' ,fontsize=20)\n",
    "plt.plot(t/t_e,H_max/H,color='slateblue',linewidth=3)\n",
    "plt.plot(x_data+t_0/t_e,func(x_data, a, b, c),color='k',linestyle='--',linewidth=3,label=r'exponential fit')\n",
    "plt.xticks(fontsize=16)\n",
    "plt.yticks(fontsize=16)\n",
    "plt.xlabel(r'$t\\,/\\,t_\\mathrm{e}$',fontsize=20)\n",
    "plt.ylabel(r'max $|H\\,/\\,H_0-1| $',fontsize=20)\n",
    "plt.axvline(x=8,linestyle='--',color='crimson',linewidth=2)\n",
    "plt.annotate(xy=(6.0,0.0),text=r'turn off melt', fontsize=16,color='crimson',bbox=dict(facecolor='w', edgecolor='k', boxstyle='round'))\n",
    "plt.legend(fontsize=12)\n",
    "plt.show()\n",
    "plt.close()"
   ]
  },
  {
   "cell_type": "code",
   "execution_count": null,
   "id": "413cd9d5-d8bd-424f-9fce-ee1d36ae89df",
   "metadata": {},
   "outputs": [],
   "source": []
  },
  {
   "cell_type": "code",
   "execution_count": null,
   "id": "db6ebf3e-3f9e-4639-b727-ee3f43881f28",
   "metadata": {},
   "outputs": [],
   "source": [
    "plt.figure(figsize=(8,6))\n",
    "plt.plot(x_data,y_data,color='k',linewidth=3)\n",
    "plt.plot(x_data,func(x_data, a, b, c),color='crimson',linestyle='--',linewidth=3)\n",
    "plt.xticks(fontsize=16)\n",
    "plt.yticks(fontsize=16)\n",
    "# plt.yscale('log')\n",
    "# plt.xscale('log')\n",
    "plt.xlabel(r'$t\\,/\\,t_\\mathrm{e}$',fontsize=20)\n",
    "plt.ylabel(r'max $|H\\,/\\,H_0-1| $',fontsize=20)\n",
    "plt.show()\n",
    "plt.close()"
   ]
  },
  {
   "cell_type": "code",
   "execution_count": null,
   "id": "12d2b7bc-f265-4d08-89e5-270430e53480",
   "metadata": {},
   "outputs": [],
   "source": []
  }
 ],
 "metadata": {
  "kernelspec": {
   "display_name": "Python 3 (ipykernel)",
   "language": "python",
   "name": "python3"
  },
  "language_info": {
   "codemirror_mode": {
    "name": "ipython",
    "version": 3
   },
   "file_extension": ".py",
   "mimetype": "text/x-python",
   "name": "python",
   "nbconvert_exporter": "python",
   "pygments_lexer": "ipython3",
   "version": "3.10.6"
  }
 },
 "nbformat": 4,
 "nbformat_minor": 5
}
