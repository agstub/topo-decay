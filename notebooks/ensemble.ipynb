{
 "cells": [
  {
   "cell_type": "markdown",
   "id": "80eb6396",
   "metadata": {},
   "source": [
    "Example: Running the Stokes code to explore topographic decay on floating viscous sheets\n",
    "for an ensemble of wavelength perturbations\n",
    "\n",
    "The code requires FEniCS---see the README for details."
   ]
  },
  {
   "cell_type": "code",
   "execution_count": 1,
   "id": "57aa6f76-b645-4397-b420-d5789dfd518c",
   "metadata": {},
   "outputs": [],
   "source": [
    "%load_ext autoreload\n",
    "%autoreload 2\n",
    "import sys\n",
    "sys.path.insert(0, '../source')"
   ]
  },
  {
   "cell_type": "markdown",
   "id": "1688207d-98bd-4320-bb12-ee3a5be0fc55",
   "metadata": {},
   "source": [
    "Install ipyparallel if needed (then restart kernel):"
   ]
  },
  {
   "cell_type": "code",
   "execution_count": 2,
   "id": "e485b51b-15b6-46f6-bd7b-22b610e10412",
   "metadata": {},
   "outputs": [],
   "source": [
    "# !pip install --user ipyparallel"
   ]
  },
  {
   "cell_type": "code",
   "execution_count": 3,
   "id": "4a4d55cb-a935-4b72-a0b2-bb0fe963b926",
   "metadata": {},
   "outputs": [],
   "source": [
    "import matplotlib.pyplot as plt\n",
    "import numpy as np\n",
    "import ipyparallel as ipp\n",
    "import os \n",
    "from params import t_e,H\n",
    "from post_process import get_decay_rate\n",
    "from theory import t_p, t_m"
   ]
  },
  {
   "cell_type": "code",
   "execution_count": 4,
   "id": "c99d06db-f1f0-40f4-8051-7846fe88e9d2",
   "metadata": {},
   "outputs": [
    {
     "name": "stdout",
     "output_type": "stream",
     "text": [
      "Starting 20 engines with <class 'ipyparallel.cluster.launcher.LocalEngineSetLauncher'>\n"
     ]
    },
    {
     "data": {
      "application/vnd.jupyter.widget-view+json": {
       "model_id": "6f906015633143818feb66fed2b1cfb8",
       "version_major": 2,
       "version_minor": 0
      },
      "text/plain": [
       "  0%|          | 0/20 [00:00<?, ?engine/s]"
      ]
     },
     "metadata": {},
     "output_type": "display_data"
    },
    {
     "data": {
      "text/plain": [
       "<AsyncResult(execute): finished>"
      ]
     },
     "execution_count": 4,
     "metadata": {},
     "output_type": "execute_result"
    }
   ],
   "source": [
    "num = 20 # number of engines\n",
    "mycluster = ipp.Cluster(n = num,timeout=180)\n",
    "rc = mycluster.start_and_connect_sync()\n",
    "view = rc.load_balanced_view()\n",
    "dview = rc[:]\n",
    "dview.block = True\n",
    "dview.execute('import sys')\n",
    "dview.execute('import numpy as np')\n",
    "dview.execute('sys.path.insert(0, \"../source\")')\n",
    "dview.execute('from main import solve')\n",
    "dview.execute('from params import H')\n",
    "dview.execute('from mesh_routine import deform_mesh')\n",
    "dview.execute('from dolfinx.mesh import create_rectangle')\n",
    "dview.execute('from ufl import cos')\n",
    "dview.execute('from mpi4py import MPI')"
   ]
  },
  {
   "cell_type": "markdown",
   "id": "b1371ae5-533f-48b6-a7ab-b6746a77dc56",
   "metadata": {},
   "source": [
    "Define time stepping parameters:"
   ]
  },
  {
   "cell_type": "code",
   "execution_count": 5,
   "id": "70791308-d3dd-4915-a5b3-25778efad201",
   "metadata": {},
   "outputs": [],
   "source": [
    "# Time-stepping parameters\n",
    "t_f = 30*t_e                    # Final time (in terms of intrinsic timescale)\n",
    "nt = 100*int(t_f/t_e)           # Number of time steps\n",
    "t = np.linspace(0,t_f, nt)      # timesteps array"
   ]
  },
  {
   "cell_type": "code",
   "execution_count": 6,
   "id": "9e2ee38b-e270-4116-a8c5-8fe596b24ed7",
   "metadata": {},
   "outputs": [],
   "source": [
    "# lamdas = np.sort(np.append(np.logspace(-1.2,2.75,50),np.logspace(0.25,1,50)))\n",
    "lamdas = np.logspace(-1.2,2.75,50) # need less points for base perturbation\n",
    "mydict = dict(lamdas = lamdas,t=t)\n",
    "dview.push(mydict);"
   ]
  },
  {
   "cell_type": "markdown",
   "id": "e28e001f-c219-42d5-83fb-a628d983edda",
   "metadata": {},
   "source": [
    "Define wrapper function for solver in example notebook:\n",
    "\n",
    "**Note:** For base perturbations, switch the perturb_h and perturb_s in the function below"
   ]
  },
  {
   "cell_type": "code",
   "execution_count": 7,
   "id": "d2730445-4e9a-42ed-86ef-fba9e5eda915",
   "metadata": {},
   "outputs": [],
   "source": [
    "def wrapper(i):\n",
    "\n",
    "    # # sinusoidal anomaly for perturbing domain\n",
    "    lamda = lamdas[i]*H                 # wavelength\n",
    "    k = (2*np.pi/lamda)                 # wavenumber\n",
    "    perturb_h = lambda x: 5*cos(k*x)     # surface perturbation\n",
    "    perturb_s = lambda x: 1e-20*cos(k*x) # base perturbation\n",
    "    perturb = [perturb_h,perturb_s]\n",
    "\n",
    "    # Mesh parameters\n",
    "    L = 20*lamda                        # length of domain\n",
    "    Nx = 500                            # Number of elements in x direction\n",
    "    Nz = 10                             # Number of elements in z direction\n",
    "\n",
    "    # create domain\n",
    "    domain = create_rectangle(MPI.COMM_WORLD,[[-L/2.0,0.0],[L/2.0,H]], [Nx, Nz])\n",
    "\n",
    "    # deform the upper surface of the domain accoriding to the perturbation\n",
    "    domain = deform_mesh(domain,perturb)\n",
    "    \n",
    "    # solve the problem\n",
    "    h,s,x = solve(domain,t)\n",
    "    \n",
    "    h_max = np.max(np.abs(h-H)/H,axis=0)\n",
    "    s_max = np.max(np.abs(s)/H,axis=0)\n",
    "    \n",
    "    return([h_max,s_max])"
   ]
  },
  {
   "cell_type": "markdown",
   "id": "2431abd0-976c-4bdf-8cd9-3538f9612c49",
   "metadata": {},
   "source": [
    "Run the ensemble and return the surfaces"
   ]
  },
  {
   "cell_type": "code",
   "execution_count": null,
   "id": "edcbe41f-b9ef-4940-8421-e70bdae0b9d3",
   "metadata": {},
   "outputs": [
    {
     "data": {
      "application/vnd.jupyter.widget-view+json": {
       "model_id": "c5b27334b2f54081a50534ffed3ab03e",
       "version_major": 2,
       "version_minor": 0
      },
      "text/plain": [
       "unknown:   0%|          | 0/50 [00:00<?, ?tasks/s]"
      ]
     },
     "metadata": {},
     "output_type": "display_data"
    }
   ],
   "source": [
    "parameters = list(range(lamdas.size))\n",
    "async_results = []\n",
    "for i in parameters:\n",
    "    async_result = view.apply_async(wrapper, i)\n",
    "    async_results.append(async_result)\n",
    "\n",
    "rc.wait_interactive(async_results)\n",
    "\n",
    "results = [ar.get() for ar in async_results]"
   ]
  },
  {
   "cell_type": "markdown",
   "id": "05bd662a-0550-4bdc-af6a-3c6db29071b3",
   "metadata": {},
   "source": [
    "Save results:"
   ]
  },
  {
   "cell_type": "code",
   "execution_count": null,
   "id": "76a807fb-ab22-4b29-8c2d-6dc7d5175173",
   "metadata": {},
   "outputs": [],
   "source": [
    "fname = 'results_base.npy'\n",
    "res = {'results':results,'lamdas':lamdas,'t':t}\n",
    "np.save(fname,res)"
   ]
  },
  {
   "cell_type": "markdown",
   "id": "4e8150c5-678f-4c5d-a24a-601bb77d6241",
   "metadata": {},
   "source": [
    "Currently loading and plotting results in the plotting.ipynb notebook"
   ]
  },
  {
   "cell_type": "code",
   "execution_count": null,
   "id": "dc560e7b-c8e6-4cc9-b2fb-8c5a766a56a8",
   "metadata": {},
   "outputs": [],
   "source": []
  }
 ],
 "metadata": {
  "kernelspec": {
   "display_name": "Python 3 (ipykernel)",
   "language": "python",
   "name": "python3"
  },
  "language_info": {
   "codemirror_mode": {
    "name": "ipython",
    "version": 3
   },
   "file_extension": ".py",
   "mimetype": "text/x-python",
   "name": "python",
   "nbconvert_exporter": "python",
   "pygments_lexer": "ipython3",
   "version": "3.10.6"
  }
 },
 "nbformat": 4,
 "nbformat_minor": 5
}
